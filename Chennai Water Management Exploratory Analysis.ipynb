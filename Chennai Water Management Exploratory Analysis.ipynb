{
 "cells": [
  {
   "cell_type": "code",
   "execution_count": 8,
   "metadata": {},
   "outputs": [
    {
     "data": {
      "text/html": [
       "<div>\n",
       "<style scoped>\n",
       "    .dataframe tbody tr th:only-of-type {\n",
       "        vertical-align: middle;\n",
       "    }\n",
       "\n",
       "    .dataframe tbody tr th {\n",
       "        vertical-align: top;\n",
       "    }\n",
       "\n",
       "    .dataframe thead th {\n",
       "        text-align: right;\n",
       "    }\n",
       "</style>\n",
       "<table border=\"1\" class=\"dataframe\">\n",
       "  <thead>\n",
       "    <tr style=\"text-align: right;\">\n",
       "      <th></th>\n",
       "      <th>Date</th>\n",
       "      <th>POONDI</th>\n",
       "      <th>CHOLAVARAM</th>\n",
       "      <th>REDHILLS</th>\n",
       "      <th>CHEMBARAMBAKKAM</th>\n",
       "    </tr>\n",
       "  </thead>\n",
       "  <tbody>\n",
       "    <tr>\n",
       "      <th>0</th>\n",
       "      <td>2004-01-01</td>\n",
       "      <td>3.9</td>\n",
       "      <td>0.0</td>\n",
       "      <td>268.0</td>\n",
       "      <td>0.0</td>\n",
       "    </tr>\n",
       "    <tr>\n",
       "      <th>1</th>\n",
       "      <td>2004-02-01</td>\n",
       "      <td>3.9</td>\n",
       "      <td>0.0</td>\n",
       "      <td>268.0</td>\n",
       "      <td>0.0</td>\n",
       "    </tr>\n",
       "    <tr>\n",
       "      <th>2</th>\n",
       "      <td>2004-03-01</td>\n",
       "      <td>3.9</td>\n",
       "      <td>0.0</td>\n",
       "      <td>267.0</td>\n",
       "      <td>0.0</td>\n",
       "    </tr>\n",
       "    <tr>\n",
       "      <th>3</th>\n",
       "      <td>2004-04-01</td>\n",
       "      <td>3.9</td>\n",
       "      <td>0.0</td>\n",
       "      <td>267.0</td>\n",
       "      <td>0.0</td>\n",
       "    </tr>\n",
       "    <tr>\n",
       "      <th>4</th>\n",
       "      <td>2004-05-01</td>\n",
       "      <td>3.8</td>\n",
       "      <td>0.0</td>\n",
       "      <td>267.0</td>\n",
       "      <td>0.0</td>\n",
       "    </tr>\n",
       "  </tbody>\n",
       "</table>\n",
       "</div>"
      ],
      "text/plain": [
       "        Date  POONDI  CHOLAVARAM  REDHILLS  CHEMBARAMBAKKAM\n",
       "0 2004-01-01     3.9         0.0     268.0              0.0\n",
       "1 2004-02-01     3.9         0.0     268.0              0.0\n",
       "2 2004-03-01     3.9         0.0     267.0              0.0\n",
       "3 2004-04-01     3.9         0.0     267.0              0.0\n",
       "4 2004-05-01     3.8         0.0     267.0              0.0"
      ]
     },
     "execution_count": 8,
     "metadata": {},
     "output_type": "execute_result"
    }
   ],
   "source": [
    "import os\n",
    "import pandas as pd\n",
    "\n",
    "input_directory = './chennai-water-management'\n",
    "reservoir_levels = pd.read_csv(os.path.join(input_directory, 'chennai_reservoir_levels.csv'), parse_dates=[0])\n",
    "reservoir_levels.head()"
   ]
  },
  {
   "cell_type": "code",
   "execution_count": 9,
   "metadata": {},
   "outputs": [
    {
     "data": {
      "text/html": [
       "<div>\n",
       "<style scoped>\n",
       "    .dataframe tbody tr th:only-of-type {\n",
       "        vertical-align: middle;\n",
       "    }\n",
       "\n",
       "    .dataframe tbody tr th {\n",
       "        vertical-align: top;\n",
       "    }\n",
       "\n",
       "    .dataframe thead th {\n",
       "        text-align: right;\n",
       "    }\n",
       "</style>\n",
       "<table border=\"1\" class=\"dataframe\">\n",
       "  <thead>\n",
       "    <tr style=\"text-align: right;\">\n",
       "      <th></th>\n",
       "      <th>POONDI</th>\n",
       "      <th>CHOLAVARAM</th>\n",
       "      <th>REDHILLS</th>\n",
       "      <th>CHEMBARAMBAKKAM</th>\n",
       "    </tr>\n",
       "  </thead>\n",
       "  <tbody>\n",
       "    <tr>\n",
       "      <th>count</th>\n",
       "      <td>5647.000000</td>\n",
       "      <td>5647.000000</td>\n",
       "      <td>5647.000000</td>\n",
       "      <td>5647.000000</td>\n",
       "    </tr>\n",
       "    <tr>\n",
       "      <th>mean</th>\n",
       "      <td>1133.272203</td>\n",
       "      <td>240.020572</td>\n",
       "      <td>1568.345573</td>\n",
       "      <td>1321.381645</td>\n",
       "    </tr>\n",
       "    <tr>\n",
       "      <th>std</th>\n",
       "      <td>1026.009311</td>\n",
       "      <td>274.601731</td>\n",
       "      <td>890.363617</td>\n",
       "      <td>957.057834</td>\n",
       "    </tr>\n",
       "    <tr>\n",
       "      <th>min</th>\n",
       "      <td>0.900000</td>\n",
       "      <td>0.000000</td>\n",
       "      <td>0.000000</td>\n",
       "      <td>0.000000</td>\n",
       "    </tr>\n",
       "    <tr>\n",
       "      <th>25%</th>\n",
       "      <td>213.000000</td>\n",
       "      <td>22.300000</td>\n",
       "      <td>849.000000</td>\n",
       "      <td>471.500000</td>\n",
       "    </tr>\n",
       "    <tr>\n",
       "      <th>50%</th>\n",
       "      <td>782.000000</td>\n",
       "      <td>92.000000</td>\n",
       "      <td>1630.000000</td>\n",
       "      <td>1225.000000</td>\n",
       "    </tr>\n",
       "    <tr>\n",
       "      <th>75%</th>\n",
       "      <td>2006.000000</td>\n",
       "      <td>460.000000</td>\n",
       "      <td>2236.000000</td>\n",
       "      <td>2083.000000</td>\n",
       "    </tr>\n",
       "    <tr>\n",
       "      <th>max</th>\n",
       "      <td>3231.000000</td>\n",
       "      <td>896.000000</td>\n",
       "      <td>3300.000000</td>\n",
       "      <td>3396.000000</td>\n",
       "    </tr>\n",
       "  </tbody>\n",
       "</table>\n",
       "</div>"
      ],
      "text/plain": [
       "            POONDI   CHOLAVARAM     REDHILLS  CHEMBARAMBAKKAM\n",
       "count  5647.000000  5647.000000  5647.000000      5647.000000\n",
       "mean   1133.272203   240.020572  1568.345573      1321.381645\n",
       "std    1026.009311   274.601731   890.363617       957.057834\n",
       "min       0.900000     0.000000     0.000000         0.000000\n",
       "25%     213.000000    22.300000   849.000000       471.500000\n",
       "50%     782.000000    92.000000  1630.000000      1225.000000\n",
       "75%    2006.000000   460.000000  2236.000000      2083.000000\n",
       "max    3231.000000   896.000000  3300.000000      3396.000000"
      ]
     },
     "execution_count": 9,
     "metadata": {},
     "output_type": "execute_result"
    }
   ],
   "source": [
    "reservoir_levels.describe()"
   ]
  },
  {
   "cell_type": "code",
   "execution_count": 14,
   "metadata": {},
   "outputs": [
    {
     "name": "stdout",
     "output_type": "stream",
     "text": [
      "Dataset Start Date: 2004-01-01 00:00:00\n",
      "Dataset End Date: 2019-12-06 00:00:00\n"
     ]
    }
   ],
   "source": [
    "start_date, end_date = reservoir_levels['Date'].min(), reservoir_levels['Date'].max()\n",
    "print('Dataset Start Date:', start_date)\n",
    "print('Dataset End Date:', end_date)"
   ]
  },
  {
   "cell_type": "code",
   "execution_count": 26,
   "metadata": {},
   "outputs": [
    {
     "data": {
      "text/plain": [
       "<BarContainer object of 5647 artists>"
      ]
     },
     "execution_count": 26,
     "metadata": {},
     "output_type": "execute_result"
    },
    {
     "data": {
      "image/png": "[encoded data removed]",
      "text/plain": [
       "<Figure size 576x432 with 1 Axes>"
      ]
     },
     "metadata": {
      "needs_background": "light"
     },
     "output_type": "display_data"
    }
   ],
   "source": [
    "import matplotlib.pyplot as plt\n",
    "%matplotlib inline\n",
    "\n",
    "plt.figure(figsize=(8, 6))\n",
    "reservoir_levels = reservoir_levels.sort_values('Date', ascending=True)\n",
    "plt.bar(reservoir_levels['Date'], reservoir_levels['POONDI'])"
   ]
  },
  {
   "cell_type": "code",
   "execution_count": null,
   "metadata": {},
   "outputs": [],
   "source": []
  }
 ],
 "metadata": {
  "kernelspec": {
   "display_name": "Python 3",
   "language": "python",
   "name": "python3"
  },
  "language_info": {
   "codemirror_mode": {
    "name": "ipython",
    "version": 3
   },
   "file_extension": ".py",
   "mimetype": "text/x-python",
   "name": "python",
   "nbconvert_exporter": "python",
   "pygments_lexer": "ipython3",
   "version": "3.7.3"
  }
 },
 "nbformat": 4,
 "nbformat_minor": 2
}
